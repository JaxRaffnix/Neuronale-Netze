{
 "cells": [
  {
   "cell_type": "markdown",
   "metadata": {
    "id": "VM8X9hk5KO90"
   },
   "source": [
    "<img style=\"float: right;\" src=\"https://www.h-ka.de/typo3conf/ext/in2template/Resources/Public/Images/Icons/Favicons/favicon-256x256.png\">\n",
    "\n",
    "# Simple Classification\n",
    "\n",
    "In this exercise you implement simple classification methods, not using any neural networks.\n",
    "\n",
    "The idea is to learn the possibilities of those mechanisms but also gain an understanding of the limited character of those simple mechanisms.\n",
    "\n",
    "The exercise consist of three parts:\n",
    "1. simple threshold classification (with $p=1$ dimensions)\n",
    "2. shortest distance classification (with $p=2$ dimensions)\n",
    "3. k nearest neightbour (knn) (with $p=3$ dimensions)\n",
    "\n",
    "For all parts 2 classes ($q=2$) are used.\n",
    "\n",
    "The code is intended for the lecture \"[Neuronale Netze in Bildverarbeitung](https://www.h-ka.de/fileadmin/Hochschule_Karlsruhe_HKA/Informationsmaterialien/HKA_FK-EIT_Sem7_NeuronaleNetze_01.pdf)\" at HKA.\n",
    "\n",
    "## Student Details:\n",
    "\n",
    "- FirstName: Jan\n",
    "- LastName: Hoegen\n",
    "- MatriculationNumber: 82358\n",
    "----------"
   ]
  },
  {
   "cell_type": "code",
   "execution_count": 1,
   "metadata": {
    "id": "Zo5iOpOCKO94"
   },
   "outputs": [],
   "source": [
    "#####################\n",
    "# DON'T CHANGE THE CODE\n",
    "#####################\n",
    "\n",
    "# some init stuff\n",
    "import random\n",
    "import numpy as np\n",
    "import matplotlib.pyplot as plt\n",
    "from mpl_toolkits.mplot3d import Axes3D\n",
    "\n",
    "# This is a bit of magic to make matplotlib figures appear inline in the notebook\n",
    "# rather than in a new window.\n",
    "%matplotlib inline\n",
    "plt.rcParams['figure.figsize'] = (10.0, 8.0) # set default size of plots\n",
    "plt.rcParams['image.interpolation'] = 'nearest'\n",
    "plt.rcParams['image.cmap'] = 'gray'\n",
    "\n",
    "# Some more magic so that the notebook will reload external python modules;\n",
    "# see http://stackoverflow.com/questions/1907993/autoreload-of-modules-in-ipython\n",
    "%load_ext autoreload\n",
    "%autoreload 2"
   ]
  },
  {
   "cell_type": "code",
   "execution_count": 2,
   "metadata": {
    "id": "r8BnjQ1bKO95"
   },
   "outputs": [],
   "source": [
    "#####################\n",
    "# DON'T CHANGE THE CODE\n",
    "#####################\n",
    "\n",
    "############################\n",
    "# generate some 3D random toy data\n",
    "train_samples=2000  # We are going to use these data point for the \"training\"\n",
    "test_samples=500    # We'll use these data points to evaluate how good our classification works\n",
    "np.random.seed(0)   # Note: we set the random seed to '0' for repeatable experiments.\n",
    "\n",
    "# Note: The toy data that we are going to create will consist of\n",
    "# - data points (x) and\n",
    "# - a corresponding label (y) that represents the true class of the data point\n",
    "\n",
    "# First we create y_train that contains the training labels\n",
    "y_train=np.zeros((int(train_samples)))\n",
    "y_train[int(0*train_samples/2):int(1*train_samples/2)]+=1 # class 1\n",
    "y_train[int(1*train_samples/2):int(2*train_samples/2)]+=2 # class 2\n",
    "# As you can see, this gives you a vector with 1s and 2s.\n",
    "# What is the size of y_train?\n",
    "\n",
    "# X_train contains the training data\n",
    "# We use a 3d gauss distribition to create the data points, as we just want some data to play with\n",
    "# The distribution has no mean value, hence we be zero centered.\n",
    "# The variance is 2 for each dimension, the covariance is 0 hence we have uncorrelated data.\n",
    "mean = [0, 0, 0] # mean value\n",
    "cov = [[2, 0, 0],\n",
    "       [0, 2, 0],\n",
    "       [0, 0, 2]] # diagonal covariance\n",
    "x1, x2, x3 = np.random.multivariate_normal(mean, cov, train_samples).T\n",
    "# Later we want to seperate class 1 and class 2, therefore we need to add a possible discrimination.\n",
    "# Therefore we shift the data points of class 2 with +5 in each dimension.\n",
    "x1[y_train==2]+=5\n",
    "x2[y_train==2]+=5\n",
    "x3[y_train==2]+=5\n",
    "X_train = np.array([x1, x2, x3]) #combine the three dimension to one variable\n",
    "# What is the size of x_train?\n",
    "\n",
    "############################\n",
    "# The same we do for the test data, note that the test data have a slightly different variance and shift.\n",
    "# y_test contains the test labels\n",
    "y_test=np.zeros((int(test_samples)))\n",
    "y_test[int(0*test_samples/2):int(1*test_samples/2)]+=1 # class 1\n",
    "y_test[int(1*test_samples/2):int(2*test_samples/2)]+=2 # class 2\n",
    "\n",
    "# X_test contains the test data\n",
    "mean = [0, 0, 0] # mean value\n",
    "cov = [[2.5, 0  , 0],\n",
    "       [0  , 2.5, 0],\n",
    "       [0  , 0  , 2.5]] # diagonal covariance\n",
    "x1, x2, x3 = np.random.multivariate_normal(mean, cov, test_samples).T\n",
    "x1[y_test==2]+=4.8 # separate class 1 from class 2 in the toy data\n",
    "x2[y_test==2]+=4.9\n",
    "x3[y_test==2]+=5.3\n",
    "X_test = np.array([x1, x2, x3])"
   ]
  },
  {
   "cell_type": "markdown",
   "metadata": {
    "id": "6y1zZrqkKO96"
   },
   "source": [
    "## What is stored in the training/test data (X) and the training/test (Y) label?\n",
    "\n",
    "Well, first of all you need to understand it includes only toy-data.\n",
    "\n",
    "The toy-data is simply a normal distribution over three dimensions ($x_1$, $x_2$, $x_3$) with the variables ``train_samples`` or ``test_samples`` as the amount of sample points.<br>\n",
    "To discriminate the two classes, half of the data points are shifted using the mean values $x_1$, $x_2$, $x_3$.\n",
    "\n",
    "To identify the matching data points that belong to a class the labels in ``y_train`` and ``y_test`` are used.\n",
    "We want to keep it simple so we define that the half of the labels belong to class 1 and the other half belongs to class 2.\n",
    "\n",
    "Lets have a look, how the train data and labels looks like:"
   ]
  },
  {
   "cell_type": "code",
   "execution_count": 3,
   "metadata": {
    "id": "5qd-AezjKO96"
   },
   "outputs": [
    {
     "name": "stdout",
     "output_type": "stream",
     "text": [
      "Train labels:  [1. 1.]  ...  [1. 1. 2. 2.]  ...  [2. 2. 2.]\n",
      "\n",
      "Train data:  [2.49474675 3.16910155]  ...  [ 0.4525935  -0.27210064  7.25322916  5.35585891]  ...  [4.98414079 4.42304072 4.23931609]\n",
      "\n",
      "Train data:  [0.56590775 2.64112584]  ...  [ 2.94039984 -1.71475621  5.80429493  3.28759153]  ...  [6.90177839 3.1179591  5.55641445]\n",
      "\n",
      "Train data:  [ 1.38414453 -1.38207963]  ...  [-1.2833507  -0.11398351  4.83809087  4.44317644]  ...  [3.82409217 5.49864975 5.40519802]\n",
      "\n",
      "Data point:  0.4718867591884083  is from class:  [1.]\n",
      "This boolean test is done to get a true statement at the correct index and find the classlabel in the Y vector: \n",
      " To show you the principle here are the first nine results to find the correct class label: [False False False False False  True False False]\n"
     ]
    }
   ],
   "source": [
    "# We have the following train labels\n",
    "print(\"Train labels: \", y_train[0:2], \" ... \" ,  y_train[998:1002], \" ... \", y_train[1997:2000])\n",
    "print()\n",
    "\n",
    "# The following data points in x1 belong to those labels\n",
    "print(\"Train data: \", X_train[0,0:2], \" ... \" ,  X_train[0,998:1002], \" ... \", X_train[0,1997:2000])\n",
    "print()\n",
    "\n",
    "# The following data points in x2 belong to those labels\n",
    "print(\"Train data: \", X_train[1,0:2], \" ... \" ,  X_train[1,998:1002], \" ... \", X_train[1,1997:2000])\n",
    "print()\n",
    "\n",
    "# The following data points in x3 belong to those labels\n",
    "print(\"Train data: \", X_train[2,0:2], \" ... \" ,  X_train[2,998:1002], \" ... \", X_train[2,1997:2000])\n",
    "print()\n",
    "\n",
    "# This means we have 2000 three dimensional data points in X_train\n",
    "# To every data point we have a label in y_train\n",
    "# If we want to find a label that belongs to a data point, e.g. X_train[0,5] it can be simply read out by using\n",
    "print(\"Data point: \", X_train[0,5], \" is from class: \" , y_train[X_train[0,:]==X_train[0,5]])\n",
    "find_idx=X_train[0,:]==X_train[0,5]\n",
    "print(\"This boolean test is done to get a true statement at the correct index and find the classlabel in the Y vector: \\n\",\n",
    "      \"To show you the principle here are the first nine results to find the correct class label:\",find_idx[0:8])"
   ]
  },
  {
   "cell_type": "markdown",
   "metadata": {
    "id": "pH-6EaP1KO97"
   },
   "source": [
    "## Simple 1D threshold classification\n",
    "\n",
    "Using a simple one dimensional **(1D) threshold value**, it is possible classify data into **two classes**.\n",
    "All values **below** the threshold could be classified as **class 1**, all values **above** the threshold could be classified as **class 2**.\n",
    "\n",
    "Lets see how our data looks along one dimension.\n",
    "Class 1 is shown in red, class 2 is shown in blue.\n",
    "\n",
    "Note:\n",
    "- The separation of the data is done by using the labels in y_train\n",
    "- You can choose the dimension by changing the variable **x_dim**."
   ]
  },
  {
   "cell_type": "code",
   "execution_count": 4,
   "metadata": {
    "id": "WFzyjJ8BKO97"
   },
   "outputs": [
    {
     "data": {
      "image/png": "[encoded data removed]",
      "text/plain": [
       "<Figure size 1000x800 with 1 Axes>"
      ]
     },
     "metadata": {},
     "output_type": "display_data"
    }
   ],
   "source": [
    "# Define dimension\n",
    "x_dim=0\n",
    "\n",
    "# Analyze training data\n",
    "plt.hist(X_train[x_dim,y_train==1], bins=int(np.sqrt(train_samples)), facecolor='r') # show class 1\n",
    "plt.hist(X_train[x_dim,y_train==2], bins=int(np.sqrt(train_samples)), facecolor='b') # show class 2\n",
    "plt.title(\"X_train: x1\")\n",
    "plt.xlabel(\"x1\")\n",
    "plt.ylabel(\"frequency\")\n",
    "plt.show()"
   ]
  },
  {
   "cell_type": "markdown",
   "metadata": {
    "id": "PYV4WLjcKO97"
   },
   "source": [
    "As you can see, the data approximately follows a **gaussian distribution** for each class.\n",
    "This is what we expected as the toy-data is generated using a multivariate gaussian distribution.\n",
    "\n",
    "Now, if we want to classify the data we need to **determine** the threshold value.\n",
    "\n",
    "We could use some fancy optimization here, but we want to keep it simple and just **search** for the threshold **k** over the complete range in our selected dimension x_dim (which is OK, as we just have a few data points).\n",
    "\n",
    "From examining the plot above we expect the optimal k to be somewhere between 2...3.\n",
    "If you don't share this **intuition** for k, you should examine the plot above a bit more."
   ]
  },
  {
   "cell_type": "code",
   "execution_count": 5,
   "metadata": {
    "id": "VtZSie9MKO98"
   },
   "outputs": [
    {
     "name": "stdout",
     "output_type": "stream",
     "text": [
      "k= [2.30826582]\n",
      "min_loss= [3.35] %\n"
     ]
    }
   ],
   "source": [
    "# Example implementation for finding an optimal threshold k using a seach over\n",
    "# the complete range of the selected dimension.\n",
    "\n",
    "# Notice: Such a method is brute-force like and should not be used with bigger data sets.\n",
    "# Nevertheless it is a good example to understand the threshold search.\n",
    "\n",
    "# First we define the search area for 1D threshold k\n",
    "k_min=np.min(X_train[x_dim,:]) # search from the minimum\n",
    "k_max=np.max(X_train[x_dim,:]) # to the maximum of the selected x_dim\n",
    "\n",
    "# Prepare the search for k\n",
    "m = 100\n",
    "i=0 # init of the index variable\n",
    "loss=np.zeros((m,1)) # init of the loss, notice that we calculate m possible loss values.\n",
    "y_predict=np.zeros((int(train_samples))) # init the prediction vector\n",
    "\n",
    "# we want to search for the optimal k over m possible values ranging from k_min to k_max\n",
    "k_pot=np.linspace(k_min, k_max, num=100).reshape(100,1)\n",
    "\n",
    "# Search an optimal 1D threshold for classification\n",
    "for k in k_pot:\n",
    "        y_predict[X_train[x_dim,:]>k]=2   # for all X_train values > k we predict class 2\n",
    "        y_predict[X_train[x_dim,:]<=k]=1  # for all X_train values <= k we predict class 1\n",
    "        # The loss provides an objective number how bad the classification worked.\n",
    "        loss[i]=sum((y_predict!=y_train))\n",
    "        i+=1\n",
    "\n",
    "# select optimal k\n",
    "k=k_pot[loss==min(loss)] # here we find the optimal k for the minimum loss\n",
    "print('k=',k)\n",
    "print('min_loss=', 100*min(loss)/train_samples, \"%\")"
   ]
  },
  {
   "cell_type": "markdown",
   "metadata": {
    "id": "rAdHGkcvKO98",
    "tags": []
   },
   "source": [
    "Your minimum training loss should be 3,35% for x_dim=0\n",
    "\n",
    "Lets see how the loss changes if we vary k:"
   ]
  },
  {
   "cell_type": "code",
   "execution_count": 6,
   "metadata": {
    "id": "T3NQijwcKO98"
   },
   "outputs": [
    {
     "data": {
      "image/png": "[encoded data removed]",
      "text/plain": [
       "<Figure size 1000x800 with 1 Axes>"
      ]
     },
     "metadata": {},
     "output_type": "display_data"
    }
   ],
   "source": [
    "plt.plot(k_pot, 100*loss/train_samples)\n",
    "plt.title(\"Training Loss [%]\")\n",
    "plt.xlabel(\"threshold k\")\n",
    "plt.ylabel(\"loss [%]\")\n",
    "plt.show()"
   ]
  },
  {
   "cell_type": "markdown",
   "metadata": {
    "id": "GsYujUkmKO98"
   },
   "source": [
    "**Inline Question 1**\n",
    "\n",
    "Notice the minimal value of the loss function. Is a perfect separation possible?\n",
    "\n",
    "$\\color{blue}{\\textit Your Answer:}$ *fill this in.*\n",
    "\n",
    "**Inline Question 2**\n",
    "\n",
    "Is a separation possible in one of the other dimensions?\n",
    "\n",
    "$\\color{blue}{\\textit Your Answer:}$ *fill this in.*"
   ]
  },
  {
   "cell_type": "markdown",
   "metadata": {
    "id": "3gu6Snv7KO99"
   },
   "source": [
    "**Now implement the linear 1D classification using the test data**\n",
    "\n",
    "In the above implementation we used the training data to find an optimal k.\n",
    "In reality we would expect that our training data points are highly correlated with the data that we want to classify in our application.\n",
    "\n",
    "What you need to do is to classify the test data using the optimal k you derived from the training data and calculate the loss made."
   ]
  },
  {
   "cell_type": "code",
   "execution_count": 7,
   "metadata": {
    "id": "0p0j0dpcKO99"
   },
   "outputs": [
    {
     "name": "stdout",
     "output_type": "stream",
     "text": [
      "k= [2.30826582]\n",
      "min_loss= [[199.8]\n",
      " [199.8]\n",
      " [199.8]\n",
      " [199.8]\n",
      " [199.8]\n",
      " [199.6]\n",
      " [199.6]\n",
      " [199. ]\n",
      " [198.2]\n",
      " [197. ]\n",
      " [196.4]\n",
      " [195. ]\n",
      " [194.4]\n",
      " [192.8]\n",
      " [190.4]\n",
      " [187.8]\n",
      " [184.6]\n",
      " [181.4]\n",
      " [178.8]\n",
      " [174. ]\n",
      " [169. ]\n",
      " [162. ]\n",
      " [157.2]\n",
      " [151. ]\n",
      " [144.4]\n",
      " [138. ]\n",
      " [128.8]\n",
      " [121. ]\n",
      " [114.8]\n",
      " [107.8]\n",
      " [ 99.2]\n",
      " [ 90.8]\n",
      " [ 82. ]\n",
      " [ 74.2]\n",
      " [ 65.2]\n",
      " [ 58.4]\n",
      " [ 52.4]\n",
      " [ 46.2]\n",
      " [ 39. ]\n",
      " [ 32.6]\n",
      " [ 27. ]\n",
      " [ 22.2]\n",
      " [ 21. ]\n",
      " [ 17.2]\n",
      " [ 16.2]\n",
      " [ 14.4]\n",
      " [ 13.4]\n",
      " [ 13.6]\n",
      " [ 15. ]\n",
      " [ 16.4]\n",
      " [ 18. ]\n",
      " [ 20.4]\n",
      " [ 24. ]\n",
      " [ 27. ]\n",
      " [ 28.8]\n",
      " [ 34.4]\n",
      " [ 37.8]\n",
      " [ 43.4]\n",
      " [ 51.2]\n",
      " [ 56. ]\n",
      " [ 64.2]\n",
      " [ 71. ]\n",
      " [ 78.4]\n",
      " [ 84.4]\n",
      " [ 93.6]\n",
      " [104. ]\n",
      " [110.8]\n",
      " [119. ]\n",
      " [128. ]\n",
      " [133.6]\n",
      " [140. ]\n",
      " [146. ]\n",
      " [152.2]\n",
      " [158.4]\n",
      " [164.2]\n",
      " [168.8]\n",
      " [172.6]\n",
      " [177. ]\n",
      " [180.2]\n",
      " [183.8]\n",
      " [186.6]\n",
      " [190.6]\n",
      " [192.2]\n",
      " [194. ]\n",
      " [195.2]\n",
      " [196.4]\n",
      " [197. ]\n",
      " [197.6]\n",
      " [198. ]\n",
      " [198.2]\n",
      " [199.2]\n",
      " [199.4]\n",
      " [199.6]\n",
      " [199.6]\n",
      " [199.6]\n",
      " [199.8]\n",
      " [199.8]\n",
      " [199.8]\n",
      " [199.8]\n",
      " [200. ]] %\n"
     ]
    }
   ],
   "source": [
    "#####################\n",
    "# Your implementation\n",
    "# ... TODO ...\n",
    "#####################\n",
    "\n",
    "\n",
    "#####################\n",
    "print('k=',k)\n",
    "print('min_loss=', 100*loss/test_samples, \"%\")"
   ]
  },
  {
   "cell_type": "markdown",
   "metadata": {
    "id": "4XVvEM0VKO99",
    "tags": []
   },
   "source": [
    "Your test loss should be 6,8% for x_dim=0."
   ]
  },
  {
   "cell_type": "markdown",
   "metadata": {
    "id": "DhtFioHeKO99"
   },
   "source": [
    "**Inline Question 3**\n",
    "\n",
    "Please explain the differences between test and training data.\n",
    "\n",
    "$\\color{blue}{\\textit Your Answer:}$ *fill this in.*"
   ]
  },
  {
   "cell_type": "markdown",
   "metadata": {
    "id": "Rmfa4nahKO99"
   },
   "source": [
    "## 2D shortest distance classification\n",
    "\n",
    "In the lecture we discussed the shortest distance classification.\n",
    "\n",
    "For this method a **center of mass** point is calculated for **each cluster**.\n",
    "\n",
    "Notice: The calculation of the center of mass is the complete training phase!"
   ]
  },
  {
   "cell_type": "code",
   "execution_count": 8,
   "metadata": {
    "id": "AD3yvf57KO99"
   },
   "outputs": [
    {
     "data": {
      "image/png": "[encoded data removed]",
      "text/plain": [
       "<Figure size 1000x800 with 1 Axes>"
      ]
     },
     "metadata": {},
     "output_type": "display_data"
    }
   ],
   "source": [
    "# Define dimension\n",
    "x_dim1=0\n",
    "x_dim2=1\n",
    "\n",
    "# calculate 2D center of mass for the training data of class 1\n",
    "class1_mean_x1=np.mean(X_train[x_dim1,y_train==1])\n",
    "class1_mean_x2=np.mean(X_train[x_dim2,y_train==1])\n",
    "m_q1= np.array([class1_mean_x1, class1_mean_x2])\n",
    "\n",
    "# calculate 2D center of mass for the training data of class 2\n",
    "class2_mean_x1=np.mean(X_train[x_dim1,y_train==2])\n",
    "class2_mean_x2=np.mean(X_train[x_dim2,y_train==2])\n",
    "m_q2= np.array([class2_mean_x1, class2_mean_x2])\n",
    "\n",
    "# analyze the toy data\n",
    "fig = plt.figure()\n",
    "ax = fig.add_subplot(111)\n",
    "# plot class 1\n",
    "ax.scatter(X_train[x_dim1,y_train==1],\n",
    "           X_train[x_dim2,y_train==1],\n",
    "           c='r', marker='o')\n",
    "# plot class 2\n",
    "ax.scatter(X_train[x_dim1,y_train==2],\n",
    "           X_train[x_dim2,y_train==2],\n",
    "           c='b', marker='x')\n",
    "# plot center of mass for class 1\n",
    "ax.scatter(m_q1[0],\n",
    "           m_q1[1],\n",
    "           c='k', marker='o')\n",
    "# plot center of mass for class 2\n",
    "ax.scatter(m_q2[0],\n",
    "           m_q2[1],\n",
    "           c='k', marker='o')\n",
    "\n",
    "ax.set_xlabel('x1')\n",
    "ax.set_ylabel('x2')\n",
    "plt.title(\"Scatter plot of toy data\")\n",
    "plt.show()"
   ]
  },
  {
   "cell_type": "markdown",
   "metadata": {
    "id": "WRsMyxIEKO99"
   },
   "source": [
    "The classification is done by calculating the euclidian distance to the center of mass of each data point to classify and select the shortest distance."
   ]
  },
  {
   "cell_type": "code",
   "execution_count": 9,
   "metadata": {
    "id": "7KKheEwCKO9-"
   },
   "outputs": [
    {
     "name": "stdout",
     "output_type": "stream",
     "text": [
      "loss= 0.7 %\n"
     ]
    }
   ],
   "source": [
    "# Implementation of the 2D shortest distance classification\n",
    "\n",
    "y_predict=np.zeros((int(train_samples)))\n",
    "\n",
    "#####################\n",
    "# ... TODO ...\n",
    "# get rid of the loop!\n",
    "#####################\n",
    "\n",
    "for sample in range(train_samples):\n",
    "    dist_m_q1 = np.linalg.norm(X_train[[x_dim1, x_dim2],sample]-m_q1)\n",
    "    dist_m_q2 = np.linalg.norm(X_train[[x_dim1, x_dim2],sample]-m_q2)\n",
    "    if dist_m_q1 < dist_m_q2:\n",
    "        y_predict[sample]=1\n",
    "    else:\n",
    "        y_predict[sample]=2\n",
    "\n",
    "loss=sum((y_predict!=y_train))\n",
    "print('loss=', 100*loss/train_samples, \"%\")"
   ]
  },
  {
   "cell_type": "markdown",
   "metadata": {
    "id": "Z0H5AdQOKO9-",
    "tags": []
   },
   "source": [
    "Your training loss should be 0,7% for x_dim1=0, x_dim2=1."
   ]
  },
  {
   "cell_type": "markdown",
   "metadata": {
    "id": "3wg6gFzIKO9-"
   },
   "source": [
    "**Now implement the linear 2D shortest distance classification using the test samples**\n",
    "\n",
    "After the training, we want to see how our classification performs with new data (the test data).\n",
    "For the classification, the center of mass points for the classes from the training are used, and the distances to test data points are calulated.\n",
    "\n",
    "Notice: Do not calculate a new center of mass for the test data! Use the center of mass that was derived during the training phase."
   ]
  },
  {
   "cell_type": "code",
   "execution_count": 10,
   "metadata": {
    "id": "3ykyoOYCKO9-"
   },
   "outputs": [
    {
     "ename": "ValueError",
     "evalue": "operands could not be broadcast together with shapes (2000,) (500,) ",
     "output_type": "error",
     "traceback": [
      "\u001b[31m---------------------------------------------------------------------------\u001b[39m",
      "\u001b[31mValueError\u001b[39m                                Traceback (most recent call last)",
      "\u001b[36mCell\u001b[39m\u001b[36m \u001b[39m\u001b[32mIn[10]\u001b[39m\u001b[32m, line 8\u001b[39m\n\u001b[32m      1\u001b[39m \u001b[38;5;66;03m#####################\u001b[39;00m\n\u001b[32m      2\u001b[39m \u001b[38;5;66;03m# Your implementation\u001b[39;00m\n\u001b[32m      3\u001b[39m \u001b[38;5;66;03m# ... TODO ...\u001b[39;00m\n\u001b[32m   (...)\u001b[39m\u001b[32m      6\u001b[39m \n\u001b[32m      7\u001b[39m \u001b[38;5;66;03m#####################\u001b[39;00m\n\u001b[32m----> \u001b[39m\u001b[32m8\u001b[39m loss=\u001b[38;5;28msum\u001b[39m((\u001b[43my_predict\u001b[49m\u001b[43m!=\u001b[49m\u001b[43my_test\u001b[49m))\n\u001b[32m      9\u001b[39m \u001b[38;5;28mprint\u001b[39m(\u001b[33m'\u001b[39m\u001b[33mloss=\u001b[39m\u001b[33m'\u001b[39m, \u001b[32m100\u001b[39m*loss/test_samples, \u001b[33m\"\u001b[39m\u001b[33m%\u001b[39m\u001b[33m\"\u001b[39m)\n",
      "\u001b[31mValueError\u001b[39m: operands could not be broadcast together with shapes (2000,) (500,) "
     ]
    }
   ],
   "source": [
    "#####################\n",
    "# Your implementation\n",
    "# ... TODO ...\n",
    "#####################\n",
    "\n",
    "\n",
    "#####################\n",
    "loss=sum((y_predict!=y_test))\n",
    "print('loss=', 100*loss/test_samples, \"%\")"
   ]
  },
  {
   "cell_type": "markdown",
   "metadata": {
    "id": "7OXfaDFcKO9-",
    "tags": []
   },
   "source": [
    "Your test loss should be 1,2% for x_dim1=0, x_dim2=1."
   ]
  },
  {
   "cell_type": "markdown",
   "metadata": {
    "id": "n6mExZO_KO9-"
   },
   "source": [
    "**Now implement the linear 3D shortest distance classification using the training samples**\n",
    "\n",
    "In the above cells, we only used two dimensions for the localization of the center of mass.\n",
    "As our training and test data has three independent dimensions we should use all of them to get a better classification result.\n",
    "\n",
    "The implementation is very similar to the 2D distance.\n",
    "The difference is that\n",
    "- the center of mass for both classes and\n",
    "- the euclidean distance to each data point\n",
    "\n",
    "are now calculated for all three dimensions."
   ]
  },
  {
   "cell_type": "code",
   "execution_count": null,
   "metadata": {
    "id": "XwMKwVw1KO9-"
   },
   "outputs": [],
   "source": [
    "#####################\n",
    "# Your implementation\n",
    "# ... TODO ...\n",
    "#####################\n",
    "\n",
    "#####################\n",
    "loss=sum((y_predict!=y_train))\n",
    "print('loss=', 100*loss/train_samples, \"%\")"
   ]
  },
  {
   "cell_type": "markdown",
   "metadata": {
    "id": "uTq8xQ1mKO9-",
    "tags": []
   },
   "source": [
    "Your test loss should be 0,15%."
   ]
  },
  {
   "cell_type": "markdown",
   "metadata": {
    "id": "9mksxv7dKO9_"
   },
   "source": [
    "**Now implement the linear 3D shortest distance classification using the test samples**"
   ]
  },
  {
   "cell_type": "code",
   "execution_count": null,
   "metadata": {
    "id": "NUuCyt0lKO9_"
   },
   "outputs": [],
   "source": [
    "#####################\n",
    "# Your implementation\n",
    "# ... TODO ...\n",
    "#####################\n",
    "\n",
    "\n",
    "#####################\n",
    "loss=sum((y_predict!=y_test))\n",
    "print('loss=', 100*loss/test_samples, \"%\")"
   ]
  },
  {
   "cell_type": "markdown",
   "metadata": {
    "id": "WLAyTRndKO9_",
    "tags": []
   },
   "source": [
    "Your training loss should be 0,6%."
   ]
  },
  {
   "cell_type": "markdown",
   "metadata": {
    "id": "4AcA_O_oKO9_"
   },
   "source": [
    "## 3D knn classification\n",
    "\n",
    "In this method we calculate the distance from the test data points to the training points.\n",
    "\n",
    "The classification is then done by assigning the majority of the k nearest neighbour classes.\n",
    "\n",
    "Let's have a look how our data looks:"
   ]
  },
  {
   "cell_type": "code",
   "execution_count": null,
   "metadata": {
    "id": "CaXEZ4vWKO9_"
   },
   "outputs": [],
   "source": [
    "# analyze the toy train data\n",
    "fig = plt.figure()\n",
    "ax = fig.add_subplot(111, projection='3d')\n",
    "ax.scatter(X_train[0,y_train==1],\n",
    "           X_train[1,y_train==1],\n",
    "           X_train[2,y_train==1],\n",
    "           c='r', marker='o')\n",
    "\n",
    "ax.scatter(X_train[0,y_train==2],\n",
    "           X_train[1,y_train==2],\n",
    "           X_train[2,y_train==2],\n",
    "           c='b', marker='x')\n",
    "\n",
    "ax.set_xlabel('x1')\n",
    "ax.set_ylabel('x2')\n",
    "ax.set_zlabel('x3')\n",
    "plt.title(\"Scatter plot of toy train data\")\n",
    "plt.show()"
   ]
  },
  {
   "cell_type": "markdown",
   "metadata": {
    "id": "fIL4fymbKO9_"
   },
   "source": [
    "**Now implement the linear 3D knn classification using the test data**\n",
    "\n",
    "Notice: The training is done by just having all the training data points available."
   ]
  },
  {
   "cell_type": "code",
   "execution_count": null,
   "metadata": {
    "id": "ezl-zi7PKO9_"
   },
   "outputs": [],
   "source": [
    "#####################\n",
    "# Your implementation\n",
    "# ... TODO ...\n",
    "#####################\n",
    "\n",
    "\n",
    "#####################\n",
    "loss=sum((y_predict!=y_test))\n",
    "print('loss=', 100*loss/test_samples, \"%\")"
   ]
  },
  {
   "cell_type": "markdown",
   "metadata": {
    "id": "w5CT1EHVKO9_",
    "tags": []
   },
   "source": [
    "Your loss should be 0,4% for knn=5."
   ]
  }
 ],
 "metadata": {
  "colab": {
   "provenance": []
  },
  "kernelspec": {
   "display_name": ".venv",
   "language": "python",
   "name": "python3"
  },
  "language_info": {
   "codemirror_mode": {
    "name": "ipython",
    "version": 3
   },
   "file_extension": ".py",
   "mimetype": "text/x-python",
   "name": "python",
   "nbconvert_exporter": "python",
   "pygments_lexer": "ipython3",
   "version": "3.11.9"
  }
 },
 "nbformat": 4,
 "nbformat_minor": 4
}
